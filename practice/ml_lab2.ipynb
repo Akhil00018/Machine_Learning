{
 "cells": [
  {
   "cell_type": "code",
   "execution_count": 4,
   "id": "4c10f1ea-e72b-4d1b-bab3-1c658d4fcaa9",
   "metadata": {},
   "outputs": [
    {
     "name": "stdout",
     "output_type": "stream",
     "text": [
      "      Manufacturer              Model  Sales in thousands 4-year resale value  \\\n",
      "0    Acura          Integra                        16.919               16.36   \n",
      "1    Acura          TL                             39.384              19.875   \n",
      "2    Acura          CL                             14.114              18.225   \n",
      "3    Acura          RL                              8.588              29.725   \n",
      "4    Audi           A4                             20.397              22.255   \n",
      "..             ...                ...                 ...                 ...   \n",
      "152  Volvo          V40                             3.545                   .   \n",
      "153  Volvo          S70                            15.245                   .   \n",
      "154  Volvo          V70                            17.531                   .   \n",
      "155  Volvo          C70                             3.493                   .   \n",
      "156  Volvo          S80                            18.969                   .   \n",
      "\n",
      "    Vehicle type Price in thousands Engine size Horsepower Wheelbase Width  \\\n",
      "0      Passenger               21.5         1.8        140     101.2  67.3   \n",
      "1      Passenger               28.4         3.2        225     108.1  70.3   \n",
      "2      Passenger                  .         3.2        225     106.9  70.6   \n",
      "3      Passenger                 42         3.5        210     114.6  71.4   \n",
      "4      Passenger              23.99         1.8        150     102.6  68.2   \n",
      "..           ...                ...         ...        ...       ...   ...   \n",
      "152    Passenger               24.4         1.9        160     100.5  67.6   \n",
      "153    Passenger               27.5         2.4        168     104.9  69.3   \n",
      "154    Passenger               28.8         2.4        168     104.9  69.3   \n",
      "155    Passenger               45.5         2.3        236     104.9  71.5   \n",
      "156    Passenger                 36         2.9        201     109.9  72.1   \n",
      "\n",
      "    Length Curb weight Fuel capacity Fuel efficiency Latest Launch  \n",
      "0    172.4       2.639          13.2              28      2-Feb-14  \n",
      "1    192.9       3.517          17.2              25      6-Mar-15  \n",
      "2      192        3.47          17.2              26      1-Apr-14  \n",
      "3    196.6        3.85            18              22      3-Oct-15  \n",
      "4      178       2.998          16.4              27     10-Aug-15  \n",
      "..     ...         ...           ...             ...           ...  \n",
      "152  176.6       3.042          15.8              25     21-Sep-15  \n",
      "153  185.9       3.208          17.9              25     24-Nov-14  \n",
      "154  186.2       3.259          17.9              25     25-Jun-15  \n",
      "155  185.7       3.601          18.5              23     26-Apr-15  \n",
      "156  189.8         3.6          21.1              24     14-Nov-15  \n",
      "\n",
      "[157 rows x 15 columns]\n"
     ]
    }
   ],
   "source": [
    "import pandas as pd\n",
    "df=pd.read_csv(\"Car_sales.csv\")\n",
    "print(df)"
   ]
  },
  {
   "cell_type": "code",
   "execution_count": 5,
   "id": "97b71b66-e34d-4724-a319-59b310a48b4e",
   "metadata": {},
   "outputs": [
    {
     "name": "stdout",
     "output_type": "stream",
     "text": [
      "Number of rows: 157\n",
      "Number of columns: 15\n"
     ]
    }
   ],
   "source": [
    "num_rows, num_columns = df.shape\n",
    "print(\"Number of rows:\", num_rows)\n",
    "print(\"Number of columns:\", num_columns)"
   ]
  },
  {
   "cell_type": "code",
   "execution_count": 6,
   "id": "15bed864-710b-4427-a3f7-68882a8941ec",
   "metadata": {},
   "outputs": [
    {
     "name": "stdout",
     "output_type": "stream",
     "text": [
      "DataFrame Info:\n",
      "<class 'pandas.core.frame.DataFrame'>\n",
      "RangeIndex: 157 entries, 0 to 156\n",
      "Data columns (total 15 columns):\n",
      " #   Column               Non-Null Count  Dtype  \n",
      "---  ------               --------------  -----  \n",
      " 0   Manufacturer         157 non-null    object \n",
      " 1   Model                157 non-null    object \n",
      " 2   Sales in thousands   157 non-null    float64\n",
      " 3   4-year resale value  157 non-null    object \n",
      " 4   Vehicle type         157 non-null    object \n",
      " 5   Price in thousands   157 non-null    object \n",
      " 6   Engine size          157 non-null    object \n",
      " 7   Horsepower           157 non-null    object \n",
      " 8   Wheelbase            157 non-null    object \n",
      " 9   Width                157 non-null    object \n",
      " 10  Length               157 non-null    object \n",
      " 11  Curb weight          157 non-null    object \n",
      " 12  Fuel capacity        157 non-null    object \n",
      " 13  Fuel efficiency      157 non-null    object \n",
      " 14  Latest Launch        157 non-null    object \n",
      "dtypes: float64(1), object(14)\n",
      "memory usage: 18.5+ KB\n",
      "None\n"
     ]
    }
   ],
   "source": [
    "print(\"DataFrame Info:\")\n",
    "print(df.info())"
   ]
  },
  {
   "cell_type": "code",
   "execution_count": 12,
   "id": "d4f0eea0-5860-4a44-80f8-653d2d9085a7",
   "metadata": {},
   "outputs": [
    {
     "name": "stdout",
     "output_type": "stream",
     "text": [
      "removing  157\n",
      " after removing duplicates: 157\n"
     ]
    }
   ],
   "source": [
    "df_cleaned = df.drop_duplicates()\n",
    "print(\"removing \", df.shape[0])\n",
    "print(\" after removing duplicates:\",\n",
    "df_cleaned.shape[0])"
   ]
  },
  {
   "cell_type": "code",
   "execution_count": 14,
   "id": "7d587e98-e590-4b92-b7d7-f134f453f01c",
   "metadata": {},
   "outputs": [
    {
     "name": "stdout",
     "output_type": "stream",
     "text": [
      "Summary\n",
      "       Sales in thousands\n",
      "count          157.000000\n",
      "mean            52.998076\n",
      "std             68.029422\n",
      "min              0.110000\n",
      "25%             14.114000\n",
      "50%             29.450000\n",
      "75%             67.956000\n",
      "max            540.561000\n"
     ]
    }
   ],
   "source": [
    "print(\"Summary\")\n",
    "print(df.describe())"
   ]
  },
  {
   "cell_type": "code",
   "execution_count": 16,
   "id": "851c38f7-7133-4f22-aa28-b26a382ab617",
   "metadata": {},
   "outputs": [
    {
     "name": "stdout",
     "output_type": "stream",
     "text": [
      " missing values\n",
      "Manufacturer           0\n",
      "Model                  0\n",
      "Sales in thousands     0\n",
      "4-year resale value    0\n",
      "Vehicle type           0\n",
      "Price in thousands     0\n",
      "Engine size            0\n",
      "Horsepower             0\n",
      "Wheelbase              0\n",
      "Width                  0\n",
      "Length                 0\n",
      "Curb weight            0\n",
      "Fuel capacity          0\n",
      "Fuel efficiency        0\n",
      "Latest Launch          0\n",
      "dtype: int64\n"
     ]
    }
   ],
   "source": [
    "print(\" missing values\")\n",
    "print(df.isnull().sum())"
   ]
  },
  {
   "cell_type": "code",
   "execution_count": 17,
   "id": "98436dd7-b29e-4028-a6f7-b8457c661b7e",
   "metadata": {},
   "outputs": [
    {
     "data": {
      "text/plain": [
       "'Manufacturer'"
      ]
     },
     "execution_count": 17,
     "metadata": {},
     "output_type": "execute_result"
    }
   ],
   "source": [
    "df.isnull().sum().idxmax()\n"
   ]
  },
  {
   "cell_type": "code",
   "execution_count": 20,
   "id": "3e3080d3-188e-4ea9-829a-4090ef3f267c",
   "metadata": {},
   "outputs": [
    {
     "data": {
      "text/html": [
       "<div>\n",
       "<style scoped>\n",
       "    .dataframe tbody tr th:only-of-type {\n",
       "        vertical-align: middle;\n",
       "    }\n",
       "\n",
       "    .dataframe tbody tr th {\n",
       "        vertical-align: top;\n",
       "    }\n",
       "\n",
       "    .dataframe thead th {\n",
       "        text-align: right;\n",
       "    }\n",
       "</style>\n",
       "<table border=\"1\" class=\"dataframe\">\n",
       "  <thead>\n",
       "    <tr style=\"text-align: right;\">\n",
       "      <th></th>\n",
       "      <th>Model</th>\n",
       "      <th>Sales in thousands</th>\n",
       "      <th>4-year resale value</th>\n",
       "      <th>Vehicle type</th>\n",
       "      <th>Price in thousands</th>\n",
       "      <th>Engine size</th>\n",
       "      <th>Horsepower</th>\n",
       "      <th>Wheelbase</th>\n",
       "      <th>Width</th>\n",
       "      <th>Length</th>\n",
       "      <th>Curb weight</th>\n",
       "      <th>Fuel capacity</th>\n",
       "      <th>Fuel efficiency</th>\n",
       "      <th>Latest Launch</th>\n",
       "    </tr>\n",
       "  </thead>\n",
       "  <tbody>\n",
       "    <tr>\n",
       "      <th>0</th>\n",
       "      <td>Integra</td>\n",
       "      <td>16.919</td>\n",
       "      <td>16.36</td>\n",
       "      <td>Passenger</td>\n",
       "      <td>21.5</td>\n",
       "      <td>1.8</td>\n",
       "      <td>140</td>\n",
       "      <td>101.2</td>\n",
       "      <td>67.3</td>\n",
       "      <td>172.4</td>\n",
       "      <td>2.639</td>\n",
       "      <td>13.2</td>\n",
       "      <td>28</td>\n",
       "      <td>2-Feb-14</td>\n",
       "    </tr>\n",
       "    <tr>\n",
       "      <th>1</th>\n",
       "      <td>TL</td>\n",
       "      <td>39.384</td>\n",
       "      <td>19.875</td>\n",
       "      <td>Passenger</td>\n",
       "      <td>28.4</td>\n",
       "      <td>3.2</td>\n",
       "      <td>225</td>\n",
       "      <td>108.1</td>\n",
       "      <td>70.3</td>\n",
       "      <td>192.9</td>\n",
       "      <td>3.517</td>\n",
       "      <td>17.2</td>\n",
       "      <td>25</td>\n",
       "      <td>6-Mar-15</td>\n",
       "    </tr>\n",
       "    <tr>\n",
       "      <th>2</th>\n",
       "      <td>CL</td>\n",
       "      <td>14.114</td>\n",
       "      <td>18.225</td>\n",
       "      <td>Passenger</td>\n",
       "      <td>.</td>\n",
       "      <td>3.2</td>\n",
       "      <td>225</td>\n",
       "      <td>106.9</td>\n",
       "      <td>70.6</td>\n",
       "      <td>192</td>\n",
       "      <td>3.47</td>\n",
       "      <td>17.2</td>\n",
       "      <td>26</td>\n",
       "      <td>1-Apr-14</td>\n",
       "    </tr>\n",
       "    <tr>\n",
       "      <th>3</th>\n",
       "      <td>RL</td>\n",
       "      <td>8.588</td>\n",
       "      <td>29.725</td>\n",
       "      <td>Passenger</td>\n",
       "      <td>42</td>\n",
       "      <td>3.5</td>\n",
       "      <td>210</td>\n",
       "      <td>114.6</td>\n",
       "      <td>71.4</td>\n",
       "      <td>196.6</td>\n",
       "      <td>3.85</td>\n",
       "      <td>18</td>\n",
       "      <td>22</td>\n",
       "      <td>3-Oct-15</td>\n",
       "    </tr>\n",
       "    <tr>\n",
       "      <th>4</th>\n",
       "      <td>A4</td>\n",
       "      <td>20.397</td>\n",
       "      <td>22.255</td>\n",
       "      <td>Passenger</td>\n",
       "      <td>23.99</td>\n",
       "      <td>1.8</td>\n",
       "      <td>150</td>\n",
       "      <td>102.6</td>\n",
       "      <td>68.2</td>\n",
       "      <td>178</td>\n",
       "      <td>2.998</td>\n",
       "      <td>16.4</td>\n",
       "      <td>27</td>\n",
       "      <td>10-Aug-15</td>\n",
       "    </tr>\n",
       "    <tr>\n",
       "      <th>...</th>\n",
       "      <td>...</td>\n",
       "      <td>...</td>\n",
       "      <td>...</td>\n",
       "      <td>...</td>\n",
       "      <td>...</td>\n",
       "      <td>...</td>\n",
       "      <td>...</td>\n",
       "      <td>...</td>\n",
       "      <td>...</td>\n",
       "      <td>...</td>\n",
       "      <td>...</td>\n",
       "      <td>...</td>\n",
       "      <td>...</td>\n",
       "      <td>...</td>\n",
       "    </tr>\n",
       "    <tr>\n",
       "      <th>152</th>\n",
       "      <td>V40</td>\n",
       "      <td>3.545</td>\n",
       "      <td>.</td>\n",
       "      <td>Passenger</td>\n",
       "      <td>24.4</td>\n",
       "      <td>1.9</td>\n",
       "      <td>160</td>\n",
       "      <td>100.5</td>\n",
       "      <td>67.6</td>\n",
       "      <td>176.6</td>\n",
       "      <td>3.042</td>\n",
       "      <td>15.8</td>\n",
       "      <td>25</td>\n",
       "      <td>21-Sep-15</td>\n",
       "    </tr>\n",
       "    <tr>\n",
       "      <th>153</th>\n",
       "      <td>S70</td>\n",
       "      <td>15.245</td>\n",
       "      <td>.</td>\n",
       "      <td>Passenger</td>\n",
       "      <td>27.5</td>\n",
       "      <td>2.4</td>\n",
       "      <td>168</td>\n",
       "      <td>104.9</td>\n",
       "      <td>69.3</td>\n",
       "      <td>185.9</td>\n",
       "      <td>3.208</td>\n",
       "      <td>17.9</td>\n",
       "      <td>25</td>\n",
       "      <td>24-Nov-14</td>\n",
       "    </tr>\n",
       "    <tr>\n",
       "      <th>154</th>\n",
       "      <td>V70</td>\n",
       "      <td>17.531</td>\n",
       "      <td>.</td>\n",
       "      <td>Passenger</td>\n",
       "      <td>28.8</td>\n",
       "      <td>2.4</td>\n",
       "      <td>168</td>\n",
       "      <td>104.9</td>\n",
       "      <td>69.3</td>\n",
       "      <td>186.2</td>\n",
       "      <td>3.259</td>\n",
       "      <td>17.9</td>\n",
       "      <td>25</td>\n",
       "      <td>25-Jun-15</td>\n",
       "    </tr>\n",
       "    <tr>\n",
       "      <th>155</th>\n",
       "      <td>C70</td>\n",
       "      <td>3.493</td>\n",
       "      <td>.</td>\n",
       "      <td>Passenger</td>\n",
       "      <td>45.5</td>\n",
       "      <td>2.3</td>\n",
       "      <td>236</td>\n",
       "      <td>104.9</td>\n",
       "      <td>71.5</td>\n",
       "      <td>185.7</td>\n",
       "      <td>3.601</td>\n",
       "      <td>18.5</td>\n",
       "      <td>23</td>\n",
       "      <td>26-Apr-15</td>\n",
       "    </tr>\n",
       "    <tr>\n",
       "      <th>156</th>\n",
       "      <td>S80</td>\n",
       "      <td>18.969</td>\n",
       "      <td>.</td>\n",
       "      <td>Passenger</td>\n",
       "      <td>36</td>\n",
       "      <td>2.9</td>\n",
       "      <td>201</td>\n",
       "      <td>109.9</td>\n",
       "      <td>72.1</td>\n",
       "      <td>189.8</td>\n",
       "      <td>3.6</td>\n",
       "      <td>21.1</td>\n",
       "      <td>24</td>\n",
       "      <td>14-Nov-15</td>\n",
       "    </tr>\n",
       "  </tbody>\n",
       "</table>\n",
       "<p>157 rows × 14 columns</p>\n",
       "</div>"
      ],
      "text/plain": [
       "                 Model  Sales in thousands 4-year resale value Vehicle type  \\\n",
       "0    Integra                        16.919               16.36    Passenger   \n",
       "1    TL                             39.384              19.875    Passenger   \n",
       "2    CL                             14.114              18.225    Passenger   \n",
       "3    RL                              8.588              29.725    Passenger   \n",
       "4    A4                             20.397              22.255    Passenger   \n",
       "..                 ...                 ...                 ...          ...   \n",
       "152  V40                             3.545                   .    Passenger   \n",
       "153  S70                            15.245                   .    Passenger   \n",
       "154  V70                            17.531                   .    Passenger   \n",
       "155  C70                             3.493                   .    Passenger   \n",
       "156  S80                            18.969                   .    Passenger   \n",
       "\n",
       "    Price in thousands Engine size Horsepower Wheelbase Width Length  \\\n",
       "0                 21.5         1.8        140     101.2  67.3  172.4   \n",
       "1                 28.4         3.2        225     108.1  70.3  192.9   \n",
       "2                    .         3.2        225     106.9  70.6    192   \n",
       "3                   42         3.5        210     114.6  71.4  196.6   \n",
       "4                23.99         1.8        150     102.6  68.2    178   \n",
       "..                 ...         ...        ...       ...   ...    ...   \n",
       "152               24.4         1.9        160     100.5  67.6  176.6   \n",
       "153               27.5         2.4        168     104.9  69.3  185.9   \n",
       "154               28.8         2.4        168     104.9  69.3  186.2   \n",
       "155               45.5         2.3        236     104.9  71.5  185.7   \n",
       "156                 36         2.9        201     109.9  72.1  189.8   \n",
       "\n",
       "    Curb weight Fuel capacity Fuel efficiency Latest Launch  \n",
       "0         2.639          13.2              28      2-Feb-14  \n",
       "1         3.517          17.2              25      6-Mar-15  \n",
       "2          3.47          17.2              26      1-Apr-14  \n",
       "3          3.85            18              22      3-Oct-15  \n",
       "4         2.998          16.4              27     10-Aug-15  \n",
       "..          ...           ...             ...           ...  \n",
       "152       3.042          15.8              25     21-Sep-15  \n",
       "153       3.208          17.9              25     24-Nov-14  \n",
       "154       3.259          17.9              25     25-Jun-15  \n",
       "155       3.601          18.5              23     26-Apr-15  \n",
       "156         3.6          21.1              24     14-Nov-15  \n",
       "\n",
       "[157 rows x 14 columns]"
      ]
     },
     "execution_count": 20,
     "metadata": {},
     "output_type": "execute_result"
    }
   ],
   "source": [
    "df.drop(columns=[\"Manufacturer\"])"
   ]
  },
  {
   "cell_type": "code",
   "execution_count": 25,
   "id": "f18aac83-5c9e-46ba-b4e6-e89acb17c51a",
   "metadata": {},
   "outputs": [
    {
     "ename": "IndentationError",
     "evalue": "expected an indented block after function definition on line 1 (113282673.py, line 2)",
     "output_type": "error",
     "traceback": [
      "\u001b[0;36m  Cell \u001b[0;32mIn[25], line 2\u001b[0;36m\u001b[0m\n\u001b[0;31m    min_value = df[Widht].min()\u001b[0m\n\u001b[0m    ^\u001b[0m\n\u001b[0;31mIndentationError\u001b[0m\u001b[0;31m:\u001b[0m expected an indented block after function definition on line 1\n"
     ]
    }
   ],
   "source": [
    "def find_min_max(df,Width):\n",
    "min_value = df[Widht].min()\n",
    "max_value = df[Width].max()\n",
    " return min_value, max_value"
   ]
  },
  {
   "cell_type": "code",
   "execution_count": 23,
   "id": "a0f1c8a1-78a3-4841-bba9-b880cca8823e",
   "metadata": {},
   "outputs": [
    {
     "ename": "IndentationError",
     "evalue": "expected an indented block after function definition on line 3 (1043349884.py, line 4)",
     "output_type": "error",
     "traceback": [
      "\u001b[0;36m  Cell \u001b[0;32mIn[23], line 4\u001b[0;36m\u001b[0m\n\u001b[0;31m    min_value = df[column_name].min()\u001b[0m\n\u001b[0m    ^\u001b[0m\n\u001b[0;31mIndentationError\u001b[0m\u001b[0;31m:\u001b[0m expected an indented block after function definition on line 3\n"
     ]
    }
   ],
   "source": [
    "df = pd.read_csv(\"Car_sales.csv\")\n",
    "# Function to find min and max values of any column\n",
    "def find_min_max(df, column_name):\n",
    "min_value = df[column_name].min()\n",
    "max_value = df[column_name].max()"
   ]
  },
  {
   "cell_type": "code",
   "execution_count": 37,
   "id": "5a4c8cfa-172d-4197-abf7-5fbe4d756cb7",
   "metadata": {},
   "outputs": [
    {
     "name": "stdout",
     "output_type": "stream",
     "text": [
      ".\n",
      "Min: ., Max: 92\n",
      ".\n"
     ]
    }
   ],
   "source": [
    "def find_min_max(df, column_name):\n",
    "    min_value = df[column_name].min()\n",
    "    max_value = df[column_name].max()\n",
    "    print(min_value)\n",
    "    return min_value, max_value \n",
    "\n",
    "column = \"Horsepower\" \n",
    "min_val, max_val = find_min_max(df, column)\n",
    "print(f\"Min: {min_val}, Max: {max_val}\")\n",
    "print(min_val)"
   ]
  },
  {
   "cell_type": "code",
   "execution_count": 33,
   "id": "8eb21e29-a07d-41a5-92b1-3ae1ca408e48",
   "metadata": {},
   "outputs": [
    {
     "ename": "IndentationError",
     "evalue": "expected an indented block after function definition on line 1 (2215209175.py, line 2)",
     "output_type": "error",
     "traceback": [
      "\u001b[0;36m  Cell \u001b[0;32mIn[33], line 2\u001b[0;36m\u001b[0m\n\u001b[0;31m    min_value = df[Horsepower].min()\u001b[0m\n\u001b[0m    ^\u001b[0m\n\u001b[0;31mIndentationError\u001b[0m\u001b[0;31m:\u001b[0m expected an indented block after function definition on line 1\n"
     ]
    }
   ],
   "source": [
    "def find_min_max(df, Horsepower):\n",
    "min_value = df[Horsepower].min()\n",
    "max_value = df[Horsepower].max()\n",
    "\n",
    "\n",
    "# Find the rows with the min and max values\n",
    "min_row = df[df[Horsepower] == min_value]\n",
    "max_row = df[df[Horsepower] == max_value]\n",
    "\n",
    "\n",
    "return min_value, max_value, min_row, max_row\n",
    "# Now call the function to find min and max for 'Horsepower'\n",
    "hp_min, hp_max, hp_min_row, hp_max_row = find_min_max(df,\n",
    "\"Horsepower\")\n",
    "\n",
    "\n",
    "# Print results\n",
    "print(\"\\nHorsepower - Min:\", hp_min, \"\\n\", hp_min_row)\n",
    "print(\"\\nHorsepower - Max:\", hp_max, \"\\n\", hp_max_row)"
   ]
  },
  {
   "cell_type": "code",
   "execution_count": 39,
   "id": "69942ec9-6984-411e-bea8-d2a2ec2726fe",
   "metadata": {},
   "outputs": [
    {
     "name": "stdout",
     "output_type": "stream",
     "text": [
      "Missing values before:\n",
      " Manufacturer           0\n",
      "Model                  0\n",
      "Sales in thousands     0\n",
      "4-year resale value    0\n",
      "Vehicle type           0\n",
      "Price in thousands     0\n",
      "Engine size            0\n",
      "Horsepower             0\n",
      "Wheelbase              0\n",
      "Width                  0\n",
      "Length                 0\n",
      "Curb weight            0\n",
      "Fuel capacity          0\n",
      "Fuel efficiency        0\n",
      "Latest Launch          0\n",
      "dtype: int64\n",
      "Missing values after:\n",
      " Manufacturer           0\n",
      "Model                  0\n",
      "Sales in thousands     0\n",
      "4-year resale value    0\n",
      "Vehicle type           0\n",
      "Price in thousands     0\n",
      "Engine size            0\n",
      "Horsepower             0\n",
      "Wheelbase              0\n",
      "Width                  0\n",
      "Length                 0\n",
      "Curb weight            0\n",
      "Fuel capacity          0\n",
      "Fuel efficiency        0\n",
      "Latest Launch          0\n",
      "dtype: int64\n",
      "    Manufacturer              Model  Sales in thousands 4-year resale value  \\\n",
      "0  Acura          Integra                        16.919               16.36   \n",
      "1  Acura          TL                             39.384              19.875   \n",
      "2  Acura          CL                             14.114              18.225   \n",
      "3  Acura          RL                              8.588              29.725   \n",
      "4  Audi           A4                             20.397              22.255   \n",
      "\n",
      "  Vehicle type Price in thousands Engine size Horsepower Wheelbase Width  \\\n",
      "0    Passenger               21.5         1.8        140     101.2  67.3   \n",
      "1    Passenger               28.4         3.2        225     108.1  70.3   \n",
      "2    Passenger                  .         3.2        225     106.9  70.6   \n",
      "3    Passenger                 42         3.5        210     114.6  71.4   \n",
      "4    Passenger              23.99         1.8        150     102.6  68.2   \n",
      "\n",
      "  Length Curb weight Fuel capacity Fuel efficiency Latest Launch  \n",
      "0  172.4       2.639          13.2              28      2-Feb-14  \n",
      "1  192.9       3.517          17.2              25      6-Mar-15  \n",
      "2    192        3.47          17.2              26      1-Apr-14  \n",
      "3  196.6        3.85            18              22      3-Oct-15  \n",
      "4    178       2.998          16.4              27     10-Aug-15  \n"
     ]
    }
   ],
   "source": [
    "##Check missing values before imputation\n",
    "print(\"Missing values before:\\n\", df.isnull().sum())\n",
    "df[\"Sales in thousands\"].fillna(df[\"Sales in thousands\"].mean(),\n",
    "inplace=True)\n",
    "print(\"Missing values after:\\n\", df.isnull().sum())\n",
    "print(df.head())"
   ]
  },
  {
   "cell_type": "code",
   "execution_count": 50,
   "id": "bd51951a-0f2b-484a-b495-80014abda4ed",
   "metadata": {},
   "outputs": [
    {
     "name": "stdout",
     "output_type": "stream",
     "text": [
      "\n",
      "Horsepower - Min: . \n",
      "      Manufacturer              Model  Sales in thousands 4-year resale value  \\\n",
      "33  Chrysler       Town & Country                  53.48               19.54   \n",
      "\n",
      "   Vehicle type Price in thousands Engine size Horsepower Wheelbase Width  \\\n",
      "33          Car                  .           .          .         .     .   \n",
      "\n",
      "   Length Curb weight Fuel capacity Fuel efficiency Latest Launch  \n",
      "33      .           .             .               .     13-Jul-15  \n",
      "\n",
      "Horsepower - Max: 92 \n",
      "      Manufacturer              Model  Sales in thousands 4-year resale value  \\\n",
      "62  Hyundai        Accent                         41.184                5.86   \n",
      "\n",
      "   Vehicle type Price in thousands Engine size Horsepower Wheelbase Width  \\\n",
      "62    Passenger              9.699         1.5         92      96.1  65.7   \n",
      "\n",
      "   Length Curb weight Fuel capacity Fuel efficiency Latest Launch  \n",
      "62  166.7        2.24          11.9              31      9-Oct-14  \n"
     ]
    }
   ],
   "source": [
    "def find_min_max(df, column_name):\n",
    "    min_value = df[column_name].min()\n",
    "    max_value = df[column_name].max()\n",
    "   ## return min_value, max_value \n",
    "    min_row = df[df[column_name] == min_value]\n",
    "    max_row = df[df[column_name] == max_value]\n",
    "    return min_value, max_value, min_row, max_row\n",
    "\n",
    "hp_min, hp_max, hp_min_row, hp_max_row = find_min_max(df,\n",
    "\"Horsepower\")\n",
    "\n",
    "\n",
    "\n",
    "print(\"\\nHorsepower - Min:\", hp_min, \"\\n\", hp_min_row)\n",
    "print(\"\\nHorsepower - Max:\", hp_max, \"\\n\", hp_max_row)\n"
   ]
  },
  {
   "cell_type": "code",
   "execution_count": 51,
   "id": "5fbab9da-80d4-447f-886d-c64df42fea3a",
   "metadata": {},
   "outputs": [
    {
     "ename": "NameError",
     "evalue": "name 'plt' is not defined",
     "output_type": "error",
     "traceback": [
      "\u001b[0;31m---------------------------------------------------------------------------\u001b[0m",
      "\u001b[0;31mNameError\u001b[0m                                 Traceback (most recent call last)",
      "Cell \u001b[0;32mIn[51], line 1\u001b[0m\n\u001b[0;32m----> 1\u001b[0m plt\u001b[38;5;241m.\u001b[39mfigure(figsize\u001b[38;5;241m=\u001b[39m(\u001b[38;5;241m8\u001b[39m, \u001b[38;5;241m5\u001b[39m))\n\u001b[1;32m      2\u001b[0m plt\u001b[38;5;241m.\u001b[39mhist(df[column], bins\u001b[38;5;241m=\u001b[39m\u001b[38;5;241m30\u001b[39m, density\u001b[38;5;241m=\u001b[39m\u001b[38;5;28;01mTrue\u001b[39;00m, alpha\u001b[38;5;241m=\u001b[39m\u001b[38;5;241m0.6\u001b[39m,\n\u001b[1;32m      3\u001b[0m color\u001b[38;5;241m=\u001b[39m\u001b[38;5;124m\"\u001b[39m\u001b[38;5;124mgreen\u001b[39m\u001b[38;5;124m\"\u001b[39m, label\u001b[38;5;241m=\u001b[39m\u001b[38;5;124m\"\u001b[39m\u001b[38;5;124mHistogram\u001b[39m\u001b[38;5;124m\"\u001b[39m)\n\u001b[1;32m      4\u001b[0m sns\u001b[38;5;241m.\u001b[39mkdeplot(df[column], fill\u001b[38;5;241m=\u001b[39m\u001b[38;5;28;01mTrue\u001b[39;00m, color\u001b[38;5;241m=\u001b[39m\u001b[38;5;124m\"\u001b[39m\u001b[38;5;124mblue\u001b[39m\u001b[38;5;124m\"\u001b[39m, alpha\u001b[38;5;241m=\u001b[39m\u001b[38;5;241m0.5\u001b[39m,\n\u001b[1;32m      5\u001b[0m label\u001b[38;5;241m=\u001b[39m\u001b[38;5;124m\"\u001b[39m\u001b[38;5;124mKDE\u001b[39m\u001b[38;5;124m\"\u001b[39m)\n",
      "\u001b[0;31mNameError\u001b[0m: name 'plt' is not defined"
     ]
    }
   ],
   "source": [
    "plt.figure(figsize=(8, 5))\n",
    "plt.hist(df[column], bins=30, density=True, alpha=0.6,\n",
    "color=\"green\", label=\"Histogram\")\n",
    "sns.kdeplot(df[column], fill=True, color=\"blue\", alpha=0.5,\n",
    "label=\"KDE\")\n",
    "plt.xlabel(\"column\")\n",
    "plt.ylabel(\"Density\")\n",
    "plt.title(f\"PDF of {column} (Histogram + KDE)\")\n",
    "plt.legend()"
   ]
  },
  {
   "cell_type": "code",
   "execution_count": 52,
   "id": "e1173815-2f11-4c59-b711-445216244132",
   "metadata": {},
   "outputs": [
    {
     "data": {
      "image/png": "[encoded data removed]",
      "text/plain": [
       "<Figure size 800x500 with 1 Axes>"
      ]
     },
     "metadata": {},
     "output_type": "display_data"
    }
   ],
   "source": [
    "import pandas as pd\n",
    "import matplotlib.pyplot as plt\n",
    "import seaborn as sns\n",
    "# Sample dataset with 'manufacturer' and 'sales' columns\n",
    "data = {\n",
    "\"manufacturer\": [\"Toyota\", \"Ford\", \"BMW\", \"Toyota\", \"Ford\",\n",
    "\"BMW\", \"Toyota\", \"Ford\", \"BMW\"],\n",
    "\"sales\": [500, 450, 520, 600, 490, 580, 620, 470, 590]\n",
    "}\n",
    "# Create DataFrame\n",
    "df = pd.DataFrame(data)\n",
    "\n",
    "# Create a boxplot of sales by manufacturer\n",
    "plt.figure(figsize=(8, 5))\n",
    "sns.boxplot(x=df[\"manufacturer\"], y=df[\"sales\"])\n",
    "# Customize labels\n",
    "plt.xlabel(\"Manufacturer\")\n",
    "plt.ylabel(\"Sales\")\n",
    "plt.title(\"Sales Distribution by Manufacturer\")\n",
    "plt.show()"
   ]
  },
  {
   "cell_type": "code",
   "execution_count": null,
   "id": "201eb0df-f812-4bb8-919f-a2fe7402ef20",
   "metadata": {},
   "outputs": [],
   "source": []
  }
 ],
 "metadata": {
  "kernelspec": {
   "display_name": "Python 3 (ipykernel)",
   "language": "python",
   "name": "python3"
  },
  "language_info": {
   "codemirror_mode": {
    "name": "ipython",
    "version": 3
   },
   "file_extension": ".py",
   "mimetype": "text/x-python",
   "name": "python",
   "nbconvert_exporter": "python",
   "pygments_lexer": "ipython3",
   "version": "3.11.7"
  }
 },
 "nbformat": 4,
 "nbformat_minor": 5
}
